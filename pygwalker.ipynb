{
 "cells": [
  {
   "cell_type": "markdown",
   "id": "a0e01be2",
   "metadata": {},
   "source": [
    "### Auto viz and EDA with Pygwalker"
   ]
  },
  {
   "cell_type": "markdown",
   "id": "63cea730",
   "metadata": {},
   "source": [
    "### link : https://github.com/Kanaries/pygwalker"
   ]
  },
  {
   "cell_type": "code",
   "execution_count": 1,
   "id": "bdd60dc0",
   "metadata": {},
   "outputs": [],
   "source": [
    "# import libraries\n",
    "\n",
    "import pandas as pd\n",
    "import pygwalker as pyg"
   ]
  },
  {
   "cell_type": "code",
   "execution_count": null,
   "id": "a03888ad",
   "metadata": {},
   "outputs": [],
   "source": [
    "# load dataset\n",
    "df = pd.read_excel(\"./dataset/titanc.xlsx\")"
   ]
  },
  {
   "cell_type": "code",
   "execution_count": 5,
   "id": "ca0813c0",
   "metadata": {},
   "outputs": [],
   "source": [
    "# walker = pyg.walk(df)"
   ]
  }
 ],
 "metadata": {
  "kernelspec": {
   "display_name": "pygwalker_env",
   "language": "python",
   "name": "python3"
  },
  "language_info": {
   "codemirror_mode": {
    "name": "ipython",
    "version": 3
   },
   "file_extension": ".py",
   "mimetype": "text/x-python",
   "name": "python",
   "nbconvert_exporter": "python",
   "pygments_lexer": "ipython3",
   "version": "3.10.12"
  }
 },
 "nbformat": 4,
 "nbformat_minor": 5
}
