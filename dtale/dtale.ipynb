{
 "cells": [
  {
   "cell_type": "markdown",
   "id": "ef7a8a94",
   "metadata": {},
   "source": [
    "## EDA with dtale"
   ]
  },
  {
   "cell_type": "markdown",
   "id": "37430dc1",
   "metadata": {},
   "source": [
    "### dtale : https://github.com/man-group/dtale"
   ]
  },
  {
   "cell_type": "code",
   "execution_count": 1,
   "id": "3158917b",
   "metadata": {},
   "outputs": [],
   "source": [
    "import pandas as pd\n",
    "import numpy as np\n",
    "import dtale\n"
   ]
  },
  {
   "cell_type": "code",
   "execution_count": 6,
   "id": "a23af9a4",
   "metadata": {},
   "outputs": [],
   "source": [
    "# load dataset\n",
    "df =pd.read_excel(\"./dataset/titanc.xlsx\")"
   ]
  },
  {
   "cell_type": "code",
   "execution_count": 8,
   "id": "6e14e6d2",
   "metadata": {},
   "outputs": [],
   "source": [
    "# Assigning a reference to a running D-Tale process\n",
    "d = dtale.show(df)\n",
    "# Using Python's `webbrowser` package it will try and open your server's default browser to this process.\n",
    "d.open_browser()"
   ]
  },
  {
   "cell_type": "code",
   "execution_count": 9,
   "id": "5fae62c4",
   "metadata": {},
   "outputs": [],
   "source": [
    "# Shutting down D-Tale process\n",
    "d.kill()"
   ]
  }
 ],
 "metadata": {
  "kernelspec": {
   "display_name": "dtale_env",
   "language": "python",
   "name": "python3"
  },
  "language_info": {
   "codemirror_mode": {
    "name": "ipython",
    "version": 3
   },
   "file_extension": ".py",
   "mimetype": "text/x-python",
   "name": "python",
   "nbconvert_exporter": "python",
   "pygments_lexer": "ipython3",
   "version": "3.11.0"
  }
 },
 "nbformat": 4,
 "nbformat_minor": 5
}
