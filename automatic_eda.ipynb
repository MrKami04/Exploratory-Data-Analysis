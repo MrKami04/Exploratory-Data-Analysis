{
 "cells": [
  {
   "cell_type": "markdown",
   "id": "f9a88e59",
   "metadata": {},
   "source": [
    "## Autimated EDA using Ydata profiling"
   ]
  },
  {
   "cell_type": "markdown",
   "id": "84b85d87",
   "metadata": {},
   "source": [
    "- https://github.com/ydataai/ydata-profiling"
   ]
  },
  {
   "cell_type": "code",
   "execution_count": 4,
   "id": "653a09c9",
   "metadata": {},
   "outputs": [],
   "source": [
    "import pandas as pd\n",
    "import numpy as np  \n",
    "from ydata_profiling import ProfileReport\n"
   ]
  },
  {
   "cell_type": "code",
   "execution_count": 5,
   "id": "c543f474",
   "metadata": {},
   "outputs": [],
   "source": [
    "# load the dataset\n",
    "df = pd.read_excel('./dataset/titanc.xlsx')"
   ]
  },
  {
   "cell_type": "code",
   "execution_count": 6,
   "id": "c4f6468d",
   "metadata": {},
   "outputs": [],
   "source": [
    "profile = ProfileReport(df, title=\"Titanic profiling report\", explorative=True)"
   ]
  },
  {
   "cell_type": "code",
   "execution_count": 7,
   "id": "abc4571a",
   "metadata": {},
   "outputs": [
    {
     "name": "stderr",
     "output_type": "stream",
     "text": [
      "100%|██████████| 15/15 [00:00<00:00, 53.96it/s]0<00:00, 30.22it/s, Describe variable: alone]     \n",
      "Summarize dataset: 100%|██████████| 41/41 [00:04<00:00,  8.91it/s, Completed]                 \n",
      "Generate report structure: 100%|██████████| 1/1 [00:03<00:00,  3.91s/it]\n",
      "Render HTML: 100%|██████████| 1/1 [00:01<00:00,  2.00s/it]\n",
      "Export report to file: 100%|██████████| 1/1 [00:00<00:00, 45.89it/s]\n"
     ]
    }
   ],
   "source": [
    "profile.to_file(\"Titanic profiling report.html\")"
   ]
  }
 ],
 "metadata": {
  "kernelspec": {
   "display_name": "yprofiling_env",
   "language": "python",
   "name": "python3"
  },
  "language_info": {
   "codemirror_mode": {
    "name": "ipython",
    "version": 3
   },
   "file_extension": ".py",
   "mimetype": "text/x-python",
   "name": "python",
   "nbconvert_exporter": "python",
   "pygments_lexer": "ipython3",
   "version": "3.10.18"
  }
 },
 "nbformat": 4,
 "nbformat_minor": 5
}
